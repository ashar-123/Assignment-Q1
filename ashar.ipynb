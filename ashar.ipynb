{
 "cells": [
  {
   "cell_type": "code",
   "execution_count": 37,
   "metadata": {},
   "outputs": [
    {
     "name": "stdout",
     "output_type": "stream",
     "text": [
      "Input Radius: 0.5\n",
      "Area of Circle with radius 0.5 is 0.7853981634\n"
     ]
    }
   ],
   "source": [
    "# Q1. CALCULATE AREA OF CIRCLE\n",
    "\n",
    "import math\n",
    "radius = float(input(\"Input Radius: \"))\n",
    "area = math.pi * radius * radius\n",
    "area1 = round(area , 10)\n",
    "print(\"Area of Circle with radius\" , radius , \"is\" , area1)"
   ]
  },
  {
   "cell_type": "code",
   "execution_count": 14,
   "metadata": {},
   "outputs": [
    {
     "name": "stdout",
     "output_type": "stream",
     "text": [
      "Enter Number: 0\n",
      "Zero Entered\n"
     ]
    }
   ],
   "source": [
    "# Q2. CHECK NUMBER IS POSITIVE, NEGATIVE, OR ZERO\n",
    "\n",
    "number = float(input(\"Enter Number: \"))\n",
    "if number > 0:\n",
    "    print(\"Positive Number Entered\")\n",
    "elif number == 0:\n",
    "    print(\"Zero Entered\")\n",
    "else:\n",
    "    print(\"Negative Number Entered\")"
   ]
  },
  {
   "cell_type": "code",
   "execution_count": 19,
   "metadata": {},
   "outputs": [
    {
     "name": "stdout",
     "output_type": "stream",
     "text": [
      "Enter Numerator: 5\n",
      "Enter Denominator: 2\n",
      "Number 5 is not completely divisible by 2\n"
     ]
    }
   ],
   "source": [
    "# Q2. DIVISIBILITY CHECK OF TWO NUMBERS\n",
    "\n",
    "num = int(input(\"Enter Numerator: \"))\n",
    "den = int(input(\"Enter Denominator: \"))\n",
    "div = num % den\n",
    "if div == 0:\n",
    "    print(\"Number\" , num , \"is completely divisible by\" , den)\n",
    "else:\n",
    "    print(\"Number\" , num , \"is not completely divisible by\" , den)"
   ]
  },
  {
   "cell_type": "code",
   "execution_count": 36,
   "metadata": {},
   "outputs": [
    {
     "name": "stdout",
     "output_type": "stream",
     "text": [
      "Enter Radius of Sphere: 1\n",
      "Volume of the Sphere with Radius 1.0 is 4.19\n"
     ]
    }
   ],
   "source": [
    "# Q5. CALCULATE VOLUME OF SPHERE\n",
    "\n",
    "import math\n",
    "radius = float(input(\"Enter Radius of Sphere: \"))\n",
    "volume = (4 / 3) * math.pi * radius * radius * radius\n",
    "vol = round(volume , 2)\n",
    "print(\"Volume of the Sphere with Radius\" , radius , \"is\" , vol)"
   ]
  },
  {
   "cell_type": "code",
   "execution_count": 43,
   "metadata": {},
   "outputs": [
    {
     "name": "stdout",
     "output_type": "stream",
     "text": [
      "Enter Number: 9\n",
      "9 is Odd\n"
     ]
    }
   ],
   "source": [
    "# Q7. CHECH IF NUMBER IS EVEN OR ODD\n",
    "\n",
    "number = int(input(\"Enter Number: \"))\n",
    "div = number % 2\n",
    "if div == 0:\n",
    "    print(number , \"is Even\")\n",
    "else:\n",
    "    print(number , \"is Odd\")"
   ]
  },
  {
   "cell_type": "code",
   "execution_count": 46,
   "metadata": {},
   "outputs": [
    {
     "name": "stdout",
     "output_type": "stream",
     "text": [
      "Enter magnitude of Triangle base: 4\n",
      "Enter magnitude of Triangle Height: 4\n",
      "Area of Triangle with Height 4 and Base 4 is 8.0\n"
     ]
    }
   ],
   "source": [
    "# Q9. TRAINGLE AREA\n",
    "\n",
    "base = int(input(\"Enter magnitude of Triangle base: \"))\n",
    "height = int(input(\"Enter magnitude of Triangle Height: \"))\n",
    "area = (1 / 2) * base * height\n",
    "print(\"Area of Triangle with Height\" , height , \"and Base\" , base , \"is\" , area)"
   ]
  },
  {
   "cell_type": "code",
   "execution_count": 15,
   "metadata": {
    "scrolled": true
   },
   "outputs": [
    {
     "name": "stdout",
     "output_type": "stream",
     "text": [
      "Enter a date in (dd/mm/yyyy) format: 12/06/19\n",
      "Enter a date in (dd/mm/yyyy) format: 29/06/19\n",
      "\n",
      "There are  17 days between 12/06/19 and 29/06/19\n"
     ]
    }
   ],
   "source": [
    "# Q4. DAYS CALCULATOR\n",
    "\n",
    "import datetime\n",
    "from datetime import date\n",
    "date1 = input('Enter a date in (dd/mm/yyyy) format: ')\n",
    "date2 = input('Enter a date in (dd/mm/yyyy) format: ')\n",
    "a = datetime.datetime.strptime(date1,'%d/%m/%y')\n",
    "b = datetime.datetime.strptime(date2,'%d/%m/%y')\n",
    "\n",
    "c = b-a\n",
    "day = (c.days)\n",
    "print()\n",
    "print(\"There are \",day, \"days between\",date1,\"and\",date2)"
   ]
  },
  {
   "cell_type": "code",
   "execution_count": 6,
   "metadata": {
    "scrolled": true
   },
   "outputs": [
    {
     "name": "stdout",
     "output_type": "stream",
     "text": [
      "Enter Height in Feet: 5\n",
      "There are 152.4 Cm in 5 ft\n"
     ]
    }
   ],
   "source": [
    "# Q12. FEET TO CENTIMETRE CONVERTER\n",
    "\n",
    "height = int(input(\"Enter Height in Feet: \"))\n",
    "a = 30.48\n",
    "ft_to_cm = height * a\n",
    "print(\"There are\" , ft_to_cm , \"Cm in\" , height , \"ft\")\n"
   ]
  },
  {
   "cell_type": "code",
   "execution_count": 9,
   "metadata": {},
   "outputs": [
    {
     "name": "stdout",
     "output_type": "stream",
     "text": [
      "Enter Height in Cm: 180\n",
      "Enter Weight in Kg: 75\n",
      "Your BMI is 23.15\n"
     ]
    }
   ],
   "source": [
    "# Q13. BMI CALCULATOR\n",
    "\n",
    "height = int(input(\"Enter Height in Cm: \"))\n",
    "weight = int(input(\"Enter Weight in Kg: \"))\n",
    "height_in_m = height / 100\n",
    "a = height_in_m * height_in_m\n",
    "BMI = weight / a\n",
    "BMI1 = round(BMI , 2)\n",
    "print(\"Your BMI is\" , BMI1)"
   ]
  },
  {
   "cell_type": "code",
   "execution_count": 19,
   "metadata": {},
   "outputs": [
    {
     "name": "stdout",
     "output_type": "stream",
     "text": [
      "Enter String: Ashar\n",
      "How many copies of String you need: 4\n",
      "AsharAsharAsharAshar\n"
     ]
    }
   ],
   "source": [
    "# Q6. COPY STRING N TIMES\n",
    "\n",
    "string = input(\"Enter String: \")\n",
    "copy = int(input(\"How many copies of String you need: \"))\n",
    "print(string * copy)"
   ]
  },
  {
   "cell_type": "code",
   "execution_count": 29,
   "metadata": {},
   "outputs": [
    {
     "name": "stdout",
     "output_type": "stream",
     "text": [
      "Enter a character: q\n",
      "Letter q is not Vovel\n"
     ]
    }
   ],
   "source": [
    "# Q8. VOWEL TESTER\n",
    "\n",
    "char = input(\"Enter a character: \")\n",
    "if(char == 'a' or char == 'A' or char == 'e' or char == 'E' or char == 'i' \n",
    "   or char == 'I' or char == 'o' or char == 'O' or char == 'u' or char == 'U'):\n",
    "    print(\"Letter\" , char , \"is Vovel\")\n",
    "else:\n",
    "    print(\"Letter\" , char , \"is not Vovel\")"
   ]
  },
  {
   "cell_type": "code",
   "execution_count": 38,
   "metadata": {},
   "outputs": [
    {
     "name": "stdout",
     "output_type": "stream",
     "text": [
      "Please enter principal amount: 10000\n",
      "Please enter rate of interest in %: 10\n",
      "Enter number of years for investment: 5\n",
      "After 5 years your principal amount 10000 over an interest rate of 10 % will be 16105.1\n"
     ]
    }
   ],
   "source": [
    "# Q10. CALCULATE INTEREST\n",
    "\n",
    "principal = int(input(\"Please enter principal amount: \"))\n",
    "rate = int(input(\"Please enter rate of interest in %: \"))\n",
    "time = int(input(\"Enter number of years for investment: \"))\n",
    "amount = principal * ((1 + rate / 100)**time)\n",
    "round_amount = round(amount , 2)\n",
    "print(\"After\" , time , \"years your principal amount\" , principal , \n",
    "      \"over an interest rate of\" , rate , \"% will be\" , round_amount )"
   ]
  },
  {
   "cell_type": "code",
   "execution_count": 50,
   "metadata": {},
   "outputs": [
    {
     "name": "stdout",
     "output_type": "stream",
     "text": [
      "Enter Co-ordinate for x1: 1\n",
      "Enter Co-ordinate for x2: 5\n",
      "Enter Co-ordinate for y1: 4\n",
      "Enter Co-ordinate for y2: 7\n",
      "Distance between points ( 1 , 4 ) and ( 5 , 7 ) is 5\n"
     ]
    }
   ],
   "source": [
    "# Q11. EUCLIDEAN DISTANCE\n",
    "\n",
    "import math\n",
    "x1 = int(input('Enter Co-ordinate for x1: '))\n",
    "x2 = int(input('Enter Co-ordinate for x2: '))\n",
    "y1 = int(input('Enter Co-ordinate for y1: '))\n",
    "y2 = int(input('Enter Co-ordinate for y2: '))\n",
    "dist = math.sqrt((x2-x1)**2 + (y2-y1)**2)\n",
    "print(\"Distance between points (\",x1,\",\",y1,\") and (\",x2,\",\",y2,\") is\",int(dist))"
   ]
  },
  {
   "cell_type": "code",
   "execution_count": 58,
   "metadata": {},
   "outputs": [
    {
     "name": "stdout",
     "output_type": "stream",
     "text": [
      "Enter value of n:10\n",
      "SUM of n Positive integers till 10 is 55\n"
     ]
    }
   ],
   "source": [
    "# Q14 SUM OF N POSITIVE INTEGERS\n",
    "\n",
    "number = int(input(\"Enter value of n:\"))\n",
    "sum = 0\n",
    "for num in range(0,number+1,1):\n",
    "    sum = sum+num\n",
    "print(\"SUM of n Positive integers till\", number , \"is\", sum )"
   ]
  },
  {
   "cell_type": "code",
   "execution_count": 76,
   "metadata": {},
   "outputs": [
    {
     "name": "stdout",
     "output_type": "stream",
     "text": [
      "Enter a number:1234\n",
      "Sum of 1 + 2 + 3 + 4 is 10\n"
     ]
    }
   ],
   "source": [
    "# Q15. DIGITS SUM OF A NUMBER\n",
    "\n",
    "number = int(input('Enter a number:'))\n",
    "string_num = str(number)\n",
    "total_digits = ' + '.join(string_num)\n",
    "\n",
    "result = 0\n",
    "\n",
    "while number > 0:\n",
    "    rem = number % 10\n",
    "    result = result + rem\n",
    "    number = int(number // 10)\n",
    "    \n",
    "print(\"Sum of\",total_digits,\"is\",result)    "
   ]
  },
  {
   "cell_type": "code",
   "execution_count": 90,
   "metadata": {},
   "outputs": [
    {
     "name": "stdout",
     "output_type": "stream",
     "text": [
      "Enter a decimal number: 15\n",
      "Binary Representation of 15 is 1111 "
     ]
    }
   ],
   "source": [
    "# Q16. DECIMAL TO BINARY CONVERTER\n",
    "\n",
    "number = int(input('Enter a decimal number: '))\n",
    "original_num = number\n",
    "\n",
    "array = []\n",
    "while number > 0:\n",
    "    rem = number % 2\n",
    "    array.append(rem)\n",
    "    number = (number // 2)\n",
    "    \n",
    "string_list = [str(i) for i in array]\n",
    "binary = int(\"\".join(string_list)) \n",
    "array.reverse()\n",
    "print(\"Binary Representation of\",original_num,\"is\",binary,end=\" \")"
   ]
  },
  {
   "cell_type": "code",
   "execution_count": 108,
   "metadata": {},
   "outputs": [
    {
     "name": "stdout",
     "output_type": "stream",
     "text": [
      "Enter a Binary number: 1111\n",
      "Decimal Representation of 1111 is 15\n"
     ]
    }
   ],
   "source": [
    "# Q17. BINARY TO DECIMAL CONVERTER\n",
    "\n",
    "binarynumber = input(\"Enter a Binary number: \")\n",
    "binarylist = list(binarynumber)\n",
    "a = 0\n",
    "originalnum = binarynumber\n",
    "\n",
    "for dec in range(len(binarylist)):\n",
    "    num = binarylist.pop()\n",
    "    if num == '1':\n",
    "        a = a + pow(2,dec)\n",
    "        \n",
    "print(\"Decimal Representation of\",originalnum,\"is\",a)"
   ]
  },
  {
   "cell_type": "code",
   "execution_count": 123,
   "metadata": {},
   "outputs": [
    {
     "name": "stdout",
     "output_type": "stream",
     "text": [
      "Enter Text: QuickBrownFoxJumpsovertheDog\n",
      "Vowels: 9\n",
      "Consonants: 19\n"
     ]
    }
   ],
   "source": [
    "# Q18. VOWEL AND CONSONANTS COUNTER\n",
    "\n",
    "text = input(\"Enter Text: \")\n",
    "vowel = 0\n",
    "consonant = 0\n",
    "for i in text:\n",
    "    if (i == 'a' or i == 'A' or i == 'e' or i == 'E' or i == 'i' \n",
    "   or i == 'I' or i == 'o' or i == 'O' or i == 'u' or i == 'U'):\n",
    "        vowel = vowel + 1\n",
    "    else:\n",
    "        consonant = consonant + 1\n",
    "\n",
    "print(\"Vowels:\" , vowel)\n",
    "print(\"Consonants:\" , consonant)"
   ]
  },
  {
   "cell_type": "code",
   "execution_count": 126,
   "metadata": {},
   "outputs": [
    {
     "name": "stdout",
     "output_type": "stream",
     "text": [
      "Enter Text :WOW\n",
      "Text  WOW  is Palindrome\n"
     ]
    }
   ],
   "source": [
    "# Q19. PALINDROME TESTER\n",
    "\n",
    "text = input(\"Enter Text :\")\n",
    "palindrome = text[::-1]\n",
    "if text == palindrome:\n",
    "    print(\"Text \" , text ,\" is Palindrome\")\n",
    "else:\n",
    "    print(\"Text \" , text,\" is not Palindrome\")"
   ]
  },
  {
   "cell_type": "code",
   "execution_count": 129,
   "metadata": {},
   "outputs": [
    {
     "name": "stdout",
     "output_type": "stream",
     "text": [
      "Enter Text :python 3.2\n",
      "Numbers =  2\n",
      "Alphabets =  6\n",
      "Special Character =  1\n",
      "Spaces =  1\n"
     ]
    }
   ],
   "source": [
    "# Q20. COUNT ALPHABETS, NUMBERS AND CHARACTERS\n",
    "\n",
    "text = input(\"Enter Text :\")\n",
    "alphabets = 0\n",
    "digits = 0\n",
    "special = 0\n",
    "spaces = text.count(' ')\n",
    "for i in range(len(text)):\n",
    "    if(text[i].isalpha()):\n",
    "        alphabets = alphabets + 1\n",
    "    elif(text[i].isdigit()):\n",
    "        digits = digits + 1\n",
    "    else:\n",
    "        special = special + 1\n",
    "\n",
    "specialcharacter = special - spaces\n",
    "print(\"Numbers = \",digits)\n",
    "print(\"Alphabets = \",alphabets)\n",
    "print(\"Special Character = \",specialcharacter)\n",
    "print(\"Spaces = \",spaces)"
   ]
  },
  {
   "cell_type": "code",
   "execution_count": 2,
   "metadata": {},
   "outputs": [
    {
     "name": "stdout",
     "output_type": "stream",
     "text": [
      "\n",
      "* \n",
      "* * \n",
      "* * * \n",
      "* * * * \n",
      "* * * * * \n",
      "* * * * \n",
      "* * * \n",
      "* * \n",
      "* \n"
     ]
    }
   ],
   "source": [
    "# Q21. 1ST PATTERN\n",
    "\n",
    "n = 5\n",
    "for i in range(n):\n",
    "    for j in range(i):\n",
    "        print ('*', end=\" \")\n",
    "        \n",
    "    print('')\n",
    "\n",
    "for i in range(n,0,-1):\n",
    "    for j in range(i):\n",
    "        print('*', end=\" \")\n",
    "    print('')"
   ]
  },
  {
   "cell_type": "code",
   "execution_count": 3,
   "metadata": {},
   "outputs": [
    {
     "name": "stdout",
     "output_type": "stream",
     "text": [
      "\n",
      "1 \n",
      "1 2 \n",
      "1 2 3 \n",
      "1 2 3 4 \n",
      "1 2 3 4 5 \n",
      "1 2 3 4 \n",
      "1 2 3 \n",
      "1 2 \n",
      "1 \n"
     ]
    }
   ],
   "source": [
    "# Q22. 2ND PATTERN\n",
    "\n",
    "n = 5\n",
    "for i in range(n):\n",
    "    for j in range(i):\n",
    "        print (j+1, end=\" \")\n",
    "        \n",
    "    print('')\n",
    "\n",
    "for i in range(n,0,-1):\n",
    "    for j in range(i):\n",
    "        print(j+1, end=\" \")\n",
    "    print('')"
   ]
  },
  {
   "cell_type": "code",
   "execution_count": 11,
   "metadata": {},
   "outputs": [
    {
     "name": "stdout",
     "output_type": "stream",
     "text": [
      "\n",
      "1\n",
      "22\n",
      "333\n",
      "4444\n",
      "55555\n",
      "666666\n",
      "7777777\n",
      "88888888\n",
      "999999999\n"
     ]
    }
   ],
   "source": [
    "# Q23. 3RD PATTERN\n",
    "\n",
    "n = 10\n",
    "for i in range(n):\n",
    "    print (str(i) * i)"
   ]
  },
  {
   "cell_type": "code",
   "execution_count": null,
   "metadata": {},
   "outputs": [],
   "source": []
  }
 ],
 "metadata": {
  "kernelspec": {
   "display_name": "Python 3",
   "language": "python",
   "name": "python3"
  },
  "language_info": {
   "codemirror_mode": {
    "name": "ipython",
    "version": 3
   },
   "file_extension": ".py",
   "mimetype": "text/x-python",
   "name": "python",
   "nbconvert_exporter": "python",
   "pygments_lexer": "ipython3",
   "version": "3.7.3"
  }
 },
 "nbformat": 4,
 "nbformat_minor": 2
}
